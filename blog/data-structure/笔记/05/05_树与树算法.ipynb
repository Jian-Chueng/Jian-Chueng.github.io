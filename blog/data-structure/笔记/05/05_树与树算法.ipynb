{
  "nbformat": 4,
  "nbformat_minor": 0,
  "metadata": {
    "colab": {
      "name": "05_树与树算法.ipynb",
      "provenance": [],
      "collapsed_sections": []
    },
    "kernelspec": {
      "name": "python3",
      "display_name": "Python 3"
    }
  },
  "cells": [
    {
      "cell_type": "markdown",
      "metadata": {
        "id": "H5iR2EP4rDeQ",
        "colab_type": "text"
      },
      "source": [
        "# 树与树算法"
      ]
    },
    {
      "cell_type": "markdown",
      "metadata": {
        "id": "pExsVjVwrWUO",
        "colab_type": "text"
      },
      "source": [
        "## 树\n",
        "\n",
        "树（英语：tree）是一种抽象数据类型（ADT）或是实作这种抽象数据类型的数据结构，用来模拟具有树状结构性质的数据集合。它是由n（n>=1）个有限节点组成一个具有层次关系的集合。把它叫做“树”是因为它看起来像一棵倒挂的树，也就是说它是根朝上，而叶朝下的。它具有以下的特点：\n",
        "\n",
        "- 每个节点有零个或多个子节点；\n",
        "- 没有父节点的节点称为根节点；\n",
        "- 每一个非根节点有且只有一个父节点；\n",
        "- 除了根节点外，每个子节点可以分为多个不相交的子树；\n",
        "\n",
        "![替代文字](http://www.soong.site/datastructure/assets/34.png)\n",
        "\n",
        "### 树的术语\n",
        ">节点的度：一个节点含有的子树的个数称为该节点的度。 B的度：3, G的度：2<br>\n",
        "树的度：一棵树中，最大的节点的度称为树的度。 是B/C节点：3<br>\n",
        "叶节点或终端节点：度为零的节点。 K,G,F<br>\n",
        "父亲节点或父节点：若一个节点含有子节点，则这个节点称为其子节点的父节点。 E的父节点：B<br>\n",
        "孩子节点或子节点：一个节点含有的子树的根节点称为该节点的子节点。<br>\n",
        "兄弟节点：具有相同父节点的节点互称为兄弟节点。 D的兄弟节点：E，F<br>\n",
        "节点的层次：从根开始定义起，根为第1层，根的子节点为第2层，以此类推。 从上往下：A：1， BC：2， DEFGH：3，IJLMN：4，KOP：5<br>\n",
        "树的高度或深度：树中节点的最大层次。 最大是5<br>\n",
        "堂兄弟节点：父节点在同一层的节点互为堂兄弟。 即爷爷相同，BH互为堂兄弟<br>\n",
        "节点的祖先：从根到该节点所经分支上的所有节点。 O的祖先：ACGM<br>\n",
        "子孙：以某节点为根的子树中任一节点都称为该节点的子孙。G的子孙：LMO<br>\n",
        "森林：由m（m>=0）棵互不相交的树的集合称为森林；\n",
        "\n",
        "###树的种类\n",
        "- 无序树：树中任意节点的子节点之间没有顺序关系，这种树称为无序树，也称为自由树；\n",
        "- 有序树：树中任意节点的子节点之间有顺序关系，这种树称为有序树；\n",
        "  - 二叉树：每个节点最多含有两个子树的树称为二叉树；\n",
        "    - 完全二叉树：对于一颗二叉树，假设其深度为d(d>1)。除了第d层外，其它各层的节点数目均已达最大值，且第d层所有节点从左向右连续地紧密排列，这样的二叉树被称为完全二叉树，其中满二叉树的定义是所有叶节点都在最底层的完全二叉树;\n",
        "    - 平衡二叉树（AVL树）：当且仅当任何节点的两棵子树的高度差不大于1的二叉树；\n",
        "    - 排序二叉树（二叉查找树（英语：Binary Search Tree），也称二叉搜索树、有序二叉树）；\n",
        "  - 霍夫曼树（用于信息编码）：带权路径最短的二叉树称为哈夫曼树或最优二叉树；\n",
        "  - B树：一种对读写操作进行优化的自平衡的二叉查找树，能够保持数据有序，拥有多余两个子树。\n",
        "\n",
        "\n",
        "### 常见的一些树的应用场景\n",
        "1.xml，html等，那么编写这些东西的解析器的时候，不可避免用到树\n",
        "\n",
        "2.路由协议就是使用了树的算法\n",
        "\n",
        "3.mysql数据库索引\n",
        "\n",
        "4.文件系统的目录结构\n",
        "\n",
        "5.所以很多经典的AI算法其实都是树搜索，此外机器学习中的decision tree也是树结构\n",
        "\n"
      ]
    },
    {
      "cell_type": "markdown",
      "metadata": {
        "id": "lA6-WU1CrJn8",
        "colab_type": "text"
      },
      "source": [
        "## 二叉树\n",
        "\n",
        "二叉树是每个节点最多有两个子树的树结构。通常子树被称作“左子树”（left subtree）和“右子树”（right subtree）\n",
        "\n",
        "### 二叉树的性质(特性)\n",
        "性质1:在二叉树的第i层上至多有2^(i-1)个结点<br>\n",
        "性质2:深度为k的二叉树至多有2^k - 1个结点<br>\n",
        "性质3:对于任意一棵二叉树，如果其叶结点数为N0，而度数为2的结点总数为N2，则N0=N2+1;<br>\n",
        "性质4:具有n个结点的完全二叉树的深度必为 log2(n+1)<br>\n",
        "性质5:对完全二叉树，若从上至下、从左至右编号，则编号为i 的结点，其左孩子编号必为2i，其右孩子编号必为2i＋1；其双亲的编号必为i/2（i＝1 时为根,除外）\n",
        "\n",
        "![替代文字](http://www.soong.site/datastructure/assets/37.png)\n",
        "\n",
        "![替代文字](http://www.soong.site/datastructure/assets/38.png)"
      ]
    },
    {
      "cell_type": "code",
      "metadata": {
        "id": "W-pJ70_GPueS",
        "colab_type": "code",
        "colab": {
          "base_uri": "https://localhost:8080/",
          "height": 85
        },
        "outputId": "42b7d33f-b95f-433b-fe8f-02c07cb9d0bb"
      },
      "source": [
        "class Node(object):\n",
        "    \"节点类\"\n",
        "    def __init__(self, elem=-1, lchild=None, rchild=None):\n",
        "        self.elem = elem\n",
        "        self.lchild = lchild\n",
        "        self.rchild = rchild  \n",
        "  \n",
        "\n",
        "class Tree(object):\n",
        "    \"树类\"\n",
        "    def __init__(self, root=None):\n",
        "        self.root = root\n",
        "\n",
        "    def add(self, elem):\n",
        "        \"   为树添加节点\"\n",
        "        node = Node(elem)\n",
        "        #如果树是空的，则对根节点赋值\n",
        "        if self.root == None:\n",
        "            self.root = node\n",
        "        else:\n",
        "            queue = []\n",
        "            queue.append(self.root)\n",
        "            #对已有的节点进行层次遍历\n",
        "            while queue:\n",
        "                #弹出队列的第一个元素\n",
        "                cur = queue.pop(0)\n",
        "                if cur.lchild == None:\n",
        "                    cur.lchild = node\n",
        "                    return\n",
        "                elif cur.rchild == None:\n",
        "                    cur.rchild = node\n",
        "                    return\n",
        "                else:\n",
        "                    #如果左右子树都不为空，加入队列继续判断\n",
        "                    queue.append(cur.lchild)\n",
        "                    queue.append(cur.rchild)\n",
        "\n",
        "    def breadth_travel(self):\n",
        "        \"广度遍历\"  \n",
        "\n",
        "        if self.root is None:\n",
        "          return\n",
        "\n",
        "        queue =[self.root]\n",
        "        \n",
        "        while queue:\n",
        "          cur_node = queue.pop(0)\n",
        "          print(cur_node.elem,end=\" \")\n",
        "          if cur_node.lchild is not None:\n",
        "            queue.append(cur_node.lchild)\n",
        "          if cur_node.rchild is not None:\n",
        "            queue.append(cur_node.rchild)\n",
        "            \n",
        "    def preorder(self, node):\n",
        "      \"递归实现先序遍历:根左右\"\n",
        "      if node is None:\n",
        "        return\n",
        "      print(node.elem,end=\" \")\n",
        "      self.preorder(node.lchild)\n",
        "      self.preorder(node.rchild)   \n",
        "\n",
        "    def inorder(self, node):\n",
        "      \"递归实现中序遍历:左根右\"\n",
        "      if node is None:\n",
        "        return\n",
        "      self.inorder(node.lchild)\n",
        "      print(node.elem,end=\" \")\n",
        "      self.inorder(node.rchild)    \n",
        "\n",
        "    def postorder(self, node):\n",
        "      \"递归实现后续遍历:左右根\"\n",
        "      if node is None:\n",
        "        return\n",
        "      self.postorder(node.lchild)\n",
        "      self.postorder(node.rchild) \n",
        "      print(node.elem, end=\" \") \n",
        "\n",
        "tree = Tree()\n",
        "tree.add(0)\n",
        "tree.add(1)\n",
        "tree.add(2)\n",
        "tree.add(3)\n",
        "tree.add(4)\n",
        "tree.add(5)\n",
        "tree.add(6)\n",
        "tree.add(7)\n",
        "tree.add(8)\n",
        "tree.add(9)\n",
        "tree.breadth_travel()\n",
        "print(\"\")\n",
        "tree.preorder(tree.root)\n",
        "print(\"\")\n",
        "tree.inorder(tree.root)\n",
        "print(\"\")\n",
        "tree.postorder(tree.root)"
      ],
      "execution_count": 35,
      "outputs": [
        {
          "output_type": "stream",
          "text": [
            "0 1 2 3 4 5 6 7 8 9 \n",
            "0 1 3 7 8 4 9 2 5 6 \n",
            "7 3 8 1 9 4 0 5 2 6 \n",
            "7 8 3 9 4 1 5 6 2 0 "
          ],
          "name": "stdout"
        }
      ]
    },
    {
      "cell_type": "markdown",
      "metadata": {
        "id": "yGBmfuywGnp-",
        "colab_type": "text"
      },
      "source": [
        "## 树的遍历\n",
        "\n",
        "树的遍历是树的一种重要的运算。所谓遍历是指对树中所有结点的信息的访问，即依次对树中每个结点访问一次且仅访问一次，我们把这种对所有节点的访问称为遍历（traversal）。那么树的两种重要的遍历模式是深度优先遍历和广度优先遍历,**深度优先一般用递归，广度优先一般用队列。一般情况下能用递归实现的算法大部分也能用堆栈来实现**"
      ]
    },
    {
      "cell_type": "markdown",
      "metadata": {
        "id": "Tb3HrRwGFXq1",
        "colab_type": "text"
      },
      "source": [
        "### 深度遍历 必须会\n",
        "\n",
        "对于一颗二叉树，深度优先搜索(Depth First Search)是沿着树的深度遍历树的节点，尽可能深的搜索树的分支。\n",
        "那么深度遍历有重要的三种方法。这三种方式常被用于访问树的节点，它们之间的不同在于访问每个节点的次序不同。这三种遍历分别叫做先序遍历（preorder），中序遍历（inorder）和后序遍历（postorder）。我们来给出它们的详细定义，然后举例看看它们的应用。\n",
        "![替代文字](http://www.soong.site/datastructure/assets/%E4%B8%89%E7%A7%8D%E9%81%8D%E5%8E%86%E7%BB%93%E6%9E%9C.jpg)\n",
        "\n",
        "\n",
        "\n"
      ]
    },
    {
      "cell_type": "markdown",
      "metadata": {
        "id": "UqeQS6NDJ_rT",
        "colab_type": "text"
      },
      "source": [
        "- 先序遍历 在先序遍历中，我们先访问根节点，然后递归使用先序遍历访问左子树，再递归使用先序遍历访问右子树\n",
        "\n",
        "根节点->左子树->右子树\n",
        "\n",
        "前三个元素的话： 0-1-2\n",
        "\n",
        "![替代文字](image/preorder.PNG)"
      ]
    },
    {
      "cell_type": "code",
      "metadata": {
        "id": "jEBAi8p1AvyM",
        "colab_type": "code",
        "colab": {}
      },
      "source": [
        "def preorder(self, node):\n",
        "  \"递归实现先序遍历:根左右\"\n",
        "  if node is None:\n",
        "    return\n",
        "  print(node.elem)\n",
        "  self.preorder(node.lchild)\n",
        "  self.preorder(node.rchild)"
      ],
      "execution_count": 0,
      "outputs": []
    },
    {
      "cell_type": "markdown",
      "metadata": {
        "id": "HQOR9CmSHIxg",
        "colab_type": "text"
      },
      "source": [
        "- 中序遍历 在中序遍历中，我们递归使用中序遍历访问左子树，然后访问根节点，最后再递归使用中序遍历访问右子树\n",
        "\n",
        "左子树->根节点->右子树\n",
        "\n",
        "前三个元素的话： 1-0-2\n"
      ]
    },
    {
      "cell_type": "code",
      "metadata": {
        "id": "57Eyk0mqSISj",
        "colab_type": "code",
        "colab": {}
      },
      "source": [
        "def inorder(self, node):\n",
        "  \"递归实现中序遍历:左根右\"\n",
        "  if node is None:\n",
        "    return\n",
        "  self.inorder(node.lchild)\n",
        "  print(node.elem)\n",
        "  self.inorder(node.rchild)   "
      ],
      "execution_count": 0,
      "outputs": []
    },
    {
      "cell_type": "markdown",
      "metadata": {
        "id": "FSCEcW4yI1CX",
        "colab_type": "text"
      },
      "source": [
        "- 后序遍历 在后序遍历中，我们先递归使用后序遍历访问左子树和右子树，最后访问根节点\n",
        "\n",
        "左子树->右子树->根节点\n",
        "\n",
        "前三个元素的话： 1-2-0"
      ]
    },
    {
      "cell_type": "code",
      "metadata": {
        "id": "7yNcYyODJQnQ",
        "colab_type": "code",
        "colab": {}
      },
      "source": [
        "def postorder(self, node):\n",
        "  \"递归实现后续遍历:左右根\"\n",
        "  if node is None:\n",
        "    return\n",
        "  self.postorder(node.lchild)\n",
        "  self.postorder(node.rchild) \n",
        "  print(node.elem) "
      ],
      "execution_count": 0,
      "outputs": []
    },
    {
      "cell_type": "markdown",
      "metadata": {
        "id": "GvM2z8nZdIug",
        "colab_type": "text"
      },
      "source": [
        "## 二叉树反推(拓展) 由遍历确定一棵树\n",
        "\n",
        "二叉树有三种深度优先遍历方法：先序中序和后序，如果已知中序和先序，或已知中序和后序，可以确定二叉树的结构。\n",
        "\n",
        "例：\n",
        "\n",
        "    先序：0 1 3 7 8 4 9 2 5 6\n",
        "\n",
        "    中序：7 3 8 1 9 4 0 5 2 6\n",
        "\n",
        "1、先序找根，中序定两边\n",
        "\n",
        "先序的特点是第一个元素是根确定0是根节点，中序的特点是根两侧分别是左右子树确定7 3 8 1 9 4 在0左边，5 2 6在0右边\n",
        "\n",
        "所以我们反推分界初始图：\n",
        "\n",
        "![替代文字](http://www.soong.site/datastructure/assets/image-20180718161250980.png)\n",
        "\n",
        "2、左右分别重复1操作\n",
        "\n",
        "所以左侧子树的根节点是1，右侧子树的根节点是2\n",
        "\n",
        "![替代文字](http://www.soong.site/datastructure/assets/image-20180718161627429.png)\n",
        "\n",
        "3、不停的重复1操作\n",
        "\n",
        "最终的二叉树图是：\n",
        "\n",
        "![替代文字](http://www.soong.site/datastructure/assets/image-20180718170607079.png)\n",
        "\n",
        "**完结撒花**\n"
      ]
    },
    {
      "cell_type": "code",
      "metadata": {
        "id": "VQAUmAV3h7be",
        "colab_type": "code",
        "colab": {}
      },
      "source": [
        ""
      ],
      "execution_count": 0,
      "outputs": []
    }
  ]
}