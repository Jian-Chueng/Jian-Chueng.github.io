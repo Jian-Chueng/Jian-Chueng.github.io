{
  "nbformat": 4,
  "nbformat_minor": 0,
  "metadata": {
    "colab": {
      "name": "01.ipynb",
      "provenance": [],
      "collapsed_sections": []
    },
    "kernelspec": {
      "name": "python3",
      "display_name": "Python 3"
    },
    "accelerator": "GPU"
  },
  "cells": [
    {
      "cell_type": "markdown",
      "metadata": {
        "id": "RyuHMTGDCRlH",
        "colab_type": "text"
      },
      "source": [
        "# 数据结构和算法（Python）\n",
        "[教材](http://www.soong.site/datastructure/chapter1/6.html)\n",
        "\n",
        "[视频课](https://www.youtube.com/watch?v=ROzdRsYSp7k&list=PLC664nq_h8b_q8Hjq_q8fbst1TO1AKKz-&index=4)"
      ]
    },
    {
      "cell_type": "markdown",
      "metadata": {
        "id": "WULybEuim4uJ",
        "colab_type": "text"
      },
      "source": [
        "## 01什么是算法\n",
        "算法就是计算机处理信息的本质，因为计算机程序的本质就是一个算法来高速计算机确切的步骤来执行一个指定的任务。\n",
        "算法是独立存在的解决问题的方法和思 想，实现的语言不重要\n",
        "\n",
        "算法的5特性：\n",
        "输入：0或多个\n",
        "输出：至少一个\n",
        "有穷性：算法有限的步骤之后不会无限循环，并且在可以接受的时间内完成\n",
        "确定性：算法中的每一步都有确定的含义\n",
        "可行性：每一步都是可行的，也就是都能执行有限的次数完成\n",
        "\n",
        "教材：数据结构与算法：python语言描述\n",
        "进阶：算法导论（更深，重点学思想"
      ]
    },
    {
      "cell_type": "code",
      "metadata": {
        "id": "DZFNllS6-AEG",
        "colab_type": "code",
        "outputId": "2d1b9f30-9a0d-4f79-959d-ba0a59d5e0af",
        "colab": {
          "base_uri": "https://localhost:8080/",
          "height": 119
        }
      },
      "source": [
        "import time\n",
        "start_time = time.time()\n",
        "for a in range(0,1001):\n",
        "    for b in range(0,1001):\n",
        "        for c in range(0,1001):\n",
        "            if a**2+b**2 == c**2 and a+b+c ==1000:\n",
        "                print(\"a, b, c: %d, %d, %d\" % (a,b,c))\n",
        "end_time = time.time() \n",
        "print(\"Duration: %d\" %(end_time-start_time))\n",
        "print(\"finished\")"
      ],
      "execution_count": 0,
      "outputs": [
        {
          "output_type": "stream",
          "text": [
            "a, b, c: 0, 500, 500\n",
            "a, b, c: 200, 375, 425\n",
            "a, b, c: 375, 200, 425\n",
            "a, b, c: 500, 0, 500\n",
            "Duration: 682\n",
            "finished\n"
          ],
          "name": "stdout"
        }
      ]
    },
    {
      "cell_type": "markdown",
      "metadata": {
        "id": "WqdC-8AJDn9v",
        "colab_type": "text"
      },
      "source": [
        "改进： 因为a,b 确定下来c也就确定了"
      ]
    },
    {
      "cell_type": "code",
      "metadata": {
        "id": "n90XU8r_-hix",
        "colab_type": "code",
        "outputId": "18fcdead-51ef-4180-affc-b40b6e40990e",
        "colab": {
          "base_uri": "https://localhost:8080/",
          "height": 119
        }
      },
      "source": [
        "import time\n",
        "start_time = time.time()\n",
        "for a in range(0,1001):\n",
        "    for b in range(0,1001):\n",
        "        c = 1000-a-b\n",
        "        if a**2+b**2 == c**2:\n",
        "            print(\"a, b, c: %d, %d, %d\" % (a,b,c))\n",
        "end_time = time.time() \n",
        "print(\"Duration: %f\" %(end_time-start_time))\n",
        "print(\"finished\")"
      ],
      "execution_count": 0,
      "outputs": [
        {
          "output_type": "stream",
          "text": [
            "a, b, c: 0, 500, 500\n",
            "a, b, c: 200, 375, 425\n",
            "a, b, c: 375, 200, 425\n",
            "a, b, c: 500, 0, 500\n",
            "Duration: 0.905913\n",
            "finished\n"
          ],
          "name": "stdout"
        }
      ]
    },
    {
      "cell_type": "markdown",
      "metadata": {
        "id": "RS0DU9EGlG1B",
        "colab_type": "text"
      },
      "source": [
        "## 02 算法效率衡量\n",
        "\n",
        "时间复杂度与大O表示法<br>\n",
        "单靠运行时间不可信不客观：和电脑新旧，运算能力有关<br>\n",
        "**时间复杂度：描述算法时间上的效率<br>**\n",
        "假定执行算法每一个基本操作的时间是固定的，**执行的<u>基本运算数量</u>**可以忽略机器环境的影响客观的反映算法的时间效率<br>\n",
        "**\"大O表示法\"<br>**\n",
        "> 时间复杂度：假设存在函数g，似的算法A处理规模为n的问题实力所用的时间为T(n)=O(g(n)),则称O(g(n))为算法A的监禁时间复杂度，简称为时间复杂度，记为T(n)<br>\n",
        "\n",
        "计量算法基本操作的规模函数中的常量因子可以忽略不计\n",
        "\n",
        "\n",
        "## 03 最坏时间复杂度\n",
        "\n",
        "分析算法时，存在几种可能的考虑：\n",
        "\n",
        "算法完成工作最少需要多少基本操作，即最优时间复杂度：没啥意义<br>\n",
        "算法完成工作最多需要多少基本操作，即**最坏时间复杂度**:一种保证，通常时间复杂度就是指最坏这个<br>\n",
        "算法完成工作平均需要多少基本操作，即平均时间复杂度：全面评价，但没有保证<br>\n",
        "\n",
        "##总结：\n",
        "\n",
        "1. 基本操作，即只有常数项，认为其时间复杂度为O(1)\n",
        "2. 顺序结构，时间复杂度按加法进行计算\n",
        "3. 循环结构，时间复杂度按乘法进行计算\n",
        "4. 分支结构，时间复杂度取最大值 (比如if else)\n",
        "5. 判断一个算法的效率时，往往只需要关注操作数量的最高次项，其它次要项和常数项可以忽略\n",
        "6. 在没有特殊说明时，我们所分析的算法的时间复杂度都是指最坏时间复杂度\n",
        "\n",
        "## 最常见的时间复杂度\n",
        "\n",
        "\n",
        "| 执行次数函数举例 | 阶       | 非正式术语 |\n",
        "| :--------------- | :------- | :--------- |\n",
        "| 12               | O(1)     | 常数阶     |\n",
        "| 2n+3             | O(n)     | 线性阶     |\n",
        "| $3n^2+2n+1$        | $O(n^2)$    | 平方阶     |\n",
        "| 5log2n+20        | O(logn)  | 对数阶     |\n",
        "| 2n+3nlog2n+19    | O(nlogn) | nlogn阶    |\n",
        "| $6n^3+2n^2+3n+4$     | $O(n^3)$    | 立方阶     |\n",
        "| $2^n $              | $O(2^n)$    | 指数阶     |\n",
        "\n",
        "\n",
        "注意，经常将log2n（以2为底的对数）简写成logn\n",
        "\n",
        "**必须记住：**\n",
        "$O(1) < O(logn) < O(n) < O(nlogn) < O(n^2)< O(n^2logn) < O(n^3) < O(2^n) < O(n!) < O(n^n)$\n"
      ]
    },
    {
      "cell_type": "markdown",
      "metadata": {
        "id": "S-o92XcfmIL3",
        "colab_type": "text"
      },
      "source": [
        "\n",
        "## Python 内置类型性能分析 -- timeit\n",
        "\n",
        "> 列表生成式<br>\n",
        "> Python内置的一种极其强大的生成列表 list 的表达式。返回结果必须是列表。\n",
        "\n",
        ">基本语法：\n",
        "\n",
        "```[ 变量表达式 for 变量 in 表达式 ]```"
      ]
    },
    {
      "cell_type": "code",
      "metadata": {
        "id": "_GfdtDkslF_P",
        "colab_type": "code",
        "outputId": "d483b670-e682-4f9a-8156-d4eff5ed84bf",
        "colab": {
          "base_uri": "https://localhost:8080/",
          "height": 119
        }
      },
      "source": [
        "#对比四种list列表构造方式的效率\n",
        "\n",
        "from timeit import Timer\n",
        "\n",
        "def test1(): #append()\n",
        "   l = []\n",
        "   for i in range(10000):\n",
        "      l.append(i)\n",
        "\n",
        "def test2(): #+=\n",
        "   l = []\n",
        "   for i in range(10000):\n",
        "      l += [i]\n",
        "\n",
        "def test2_1(): #+\n",
        "   l = []\n",
        "   for i in range(10000):\n",
        "      l = l + [i]\n",
        "\n",
        "def test3(): #列表生成式 [i for i in range]\n",
        "   l = [i for i in range(10000)]\n",
        "\n",
        "def test4(): #可迭代对象直接生成列表 list(range)\n",
        "   l = list(range(10000))\n",
        "\n",
        "def test5(): #extend()\n",
        "   l = []\n",
        "   for i in range(10000):\n",
        "     l.extend([i])\n",
        "   \n",
        "    \n",
        "\n",
        "\n",
        "\n",
        "timer1= Timer(\"test1()\",\"from __main__ import test1\")\n",
        "print(\"append():\",timer1.timeit(number=1000),\"seconds\")\n",
        "\n",
        "timer2= Timer(\"test2()\",\"from __main__ import test2\" )\n",
        "print(\"+=:\",timer2.timeit(number=1000),\"seconds\")\n",
        "\n",
        "timer2_1= Timer(\"test2_1()\",\"from __main__ import test2_1\" )\n",
        "print(\"+:\",timer2_1.timeit(number=1000),\"seconds\")\n",
        "\n",
        "timer3= Timer(\"test3()\",\"from __main__ import test3\" )\n",
        "print(\"[i for i in range]:\",timer3.timeit(number=1000),\"seconds\")\n",
        "\n",
        "timer4= Timer(\"test4()\",\"from __main__ import test4\" )\n",
        "print(\"list(range):\",timer4.timeit(number=1000),\"seconds\")\n",
        "\n",
        "timer5= Timer(\"test5()\",\"from __main__ import test5\" )\n",
        "print(\"extend():\",timer5.timeit(number=1000),\"seconds\")"
      ],
      "execution_count": 0,
      "outputs": [
        {
          "output_type": "stream",
          "text": [
            "append(): 0.64611264999985 seconds\n",
            "+=: 0.6851804809998612 seconds\n",
            "+: 112.89560661899986 seconds\n",
            "[i for i in range]: 0.2947488119998525 seconds\n",
            "list(range): 0.1802340100002766 seconds\n",
            "extend(): 0.9059880499999053 seconds\n"
          ],
          "name": "stdout"
        }
      ]
    },
    {
      "cell_type": "markdown",
      "metadata": {
        "id": "K_DNFMiKlhAV",
        "colab_type": "text"
      },
      "source": [
        "可以看出：光用+很费时间，可以选择使用+= or extend（）替换\n",
        "\n",
        "## insert 和 append 比较\n",
        "\n",
        "> list.insert(pos, elmnt)"
      ]
    },
    {
      "cell_type": "code",
      "metadata": {
        "id": "Gc5J4CqZlgpS",
        "colab_type": "code",
        "outputId": "2e412472-d9ba-48da-8095-11653752f915",
        "colab": {
          "base_uri": "https://localhost:8080/",
          "height": 51
        }
      },
      "source": [
        "\n",
        "def test1(): #append()\n",
        "   l = []\n",
        "   for i in range(10000):\n",
        "      l.append(i) #尾部添加\n",
        "\n",
        "\n",
        "def test6(): #extend()\n",
        "   l = []\n",
        "   for i in range(10000):\n",
        "     l.insert(0, i) #头部添加\n",
        "     \n",
        "timer1= Timer(\"test1()\",\"from __main__ import test1\")\n",
        "print(\"append():\",timer1.timeit(number=1000),\"seconds\")\n",
        "\n",
        "timer6= Timer(\"test6()\",\"from __main__ import test6\" )\n",
        "print(\"insert():\",timer6.timeit(number=1000),\"seconds\")"
      ],
      "execution_count": 0,
      "outputs": [
        {
          "output_type": "stream",
          "text": [
            "append(): 0.6008801650004898 seconds\n",
            "insert(): 19.97815154900036 seconds\n"
          ],
          "name": "stdout"
        }
      ]
    },
    {
      "cell_type": "markdown",
      "metadata": {
        "id": "BonYkvHorPbP",
        "colab_type": "text"
      },
      "source": [
        "**从结果可以看出，append从尾端添加元素效率远远高于insert从顶端添加元素**<br>\n",
        "原因： 由于列表list的数据存储[方式决定的<br>\n",
        "\n",
        "\n",
        "**list内置操作的时间复杂度**\n",
        "\n",
        "![链接文字](http://www.soong.site/datastructure/assets/list%E6%93%8D%E4%BD%9C.png)\n",
        "\n",
        "lndex:O(1)\n",
        "append: O(1)\n",
        "contain(in): O(n)查找\n",
        "\n",
        "**dict内置操作的时间复杂度**\n",
        "\n",
        "![替代文字](http://www.soong.site/datastructure/assets/dict%E6%93%8D%E4%BD%9C.png)"
      ]
    },
    {
      "cell_type": "markdown",
      "metadata": {
        "colab_type": "text",
        "id": "OpYpQcgcGub-"
      },
      "source": [
        "## 数据结构\n",
        "\n",
        "算法关注的是问题的解决步骤，没有关注处理的是什么样的数据\n",
        "\n",
        ">我们如何用Python中的类型来保存一个班的学生信息？ 如果想要快速的通过学生姓名获取其信息呢？\n",
        "\n",
        "    实际上当我们在思考这个问题的时候，我们已经用到了数据结构。列表和字典都可以存储一个班的学生信息，但是想要在列表中获取一名同学的信息时，就要遍历这个列表，其时间复杂度为O(n)，而使用字典存储时，可将学生姓名作为字典的键，学生信息作为值，进而查询时不需要遍历便可快速获取到学生信息，其时间复杂度为O(1)\n",
        "\n",
        "\n",
        "**概念**\n",
        "\n",
        "    数据结构是计算机存储、组织数据的方式。数据结构是指相互之间存在一种或多种特定关系的数据元素的集合。\n",
        "\n",
        "简而言之：一组数据如何保存\n",
        "\n",
        "基本数据类型： float、int, char...<br>\n",
        "所以list， dict...已经是一种高级的数据结构了\n",
        "\n",
        "## 算法与数据结构的区别\n",
        "\n",
        "程序 = 数据结构 + 算法\n",
        "\n",
        "算法：为解决实际问题设计的<br>\n",
        "数据结构： 算法处理问题的载体\n",
        "\n",
        "## 抽象数据类型(ADT：Abstract Data Type)\n",
        "\n",
        "定义：一个数学模型以及定义在此数学模型上的一组操作\n",
        "\n",
        "例子：\n",
        "\n",
        "先规定好数据如何保存（数据结构），定义这些数据结构支持的操作（具体怎么实现不去管）\n",
        "\n",
        "```\n",
        "class students(object):\n",
        "\n",
        "    def adds\n",
        "    def pop\n",
        "    def sort\n",
        "    def ...\n",
        "```\n",
        "\n"
      ]
    },
    {
      "cell_type": "code",
      "metadata": {
        "id": "7uunXvSEkq8O",
        "colab_type": "code",
        "outputId": "49d3736b-aa18-45e1-f06e-dcaa3a5ad16f",
        "colab": {
          "base_uri": "https://localhost:8080/",
          "height": 34
        }
      },
      "source": [
        "a = [1, 2]\n",
        "a *=10\n",
        "print(a)\n",
        "\n"
      ],
      "execution_count": 15,
      "outputs": [
        {
          "output_type": "stream",
          "text": [
            "[1, 2, 1, 2, 1, 2, 1, 2, 1, 2, 1, 2, 1, 2, 1, 2, 1, 2, 1, 2]\n"
          ],
          "name": "stdout"
        }
      ]
    },
    {
      "cell_type": "code",
      "metadata": {
        "id": "ds79bkxAXE5l",
        "colab_type": "code",
        "colab": {}
      },
      "source": [
        ""
      ],
      "execution_count": 0,
      "outputs": []
    }
  ]
}