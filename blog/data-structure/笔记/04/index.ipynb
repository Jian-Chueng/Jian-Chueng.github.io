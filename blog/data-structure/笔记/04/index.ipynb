{
  "nbformat": 4,
  "nbformat_minor": 0,
  "metadata": {
    "colab": {
      "name": "04_排序与搜索.ipynb",
      "provenance": [],
      "collapsed_sections": []
    },
    "kernelspec": {
      "name": "python3",
      "display_name": "Python 3"
    }
  },
  "cells": [
    {
      "cell_type": "markdown",
      "metadata": {
        "id": "urBPBf6Wzp6O",
        "colab_type": "text"
      },
      "source": [
        "# 排序算法的稳定性\n",
        "\n",
        "排序算法（英语：Sorting algorithm）是一种能将一串数据依照特定顺序进行排列的一种算法。\n",
        "\n",
        "稳定性：稳定排序算法会让原本有相等键值的纪录维持相对次序。也就是如果一个排序算法是稳定的，当有两个相等键值的纪录R和S，且在原本的列表中R出现在S之前，在排序过的列表中R也将会是在S之前。\n",
        "\n",
        "当相等的元素是无法分辨的，比如像是整数，稳定性并不是一个问题。然而，假设以下的数对将要以他们的第一个数字来排序。\n"
      ]
    },
    {
      "cell_type": "markdown",
      "metadata": {
        "id": "9o6zsS2paqWt",
        "colab_type": "text"
      },
      "source": [
        "## 常见排序算法效率比较\n",
        "\n",
        "![替代文字](http://www.soong.site/datastructure/assets/31.png)"
      ]
    },
    {
      "cell_type": "markdown",
      "metadata": {
        "id": "ZwC4p3fgsG-A",
        "colab_type": "text"
      },
      "source": [
        "## 冒泡排序 Bubble Sort\n",
        "\n",
        "冒泡排序算法的运作如下：\n",
        "\n",
        "比较相邻的元素。如果第一个比第二个大（升序），就交换他们两个。\n",
        "对每一对相邻元素作同样的工作，从开始第一对到结尾的最后一对。这步做完后，**最后的元素会是最大的数**。\n",
        "针对所有的元素重复以上的步骤，除了最后一个。\n",
        "持续每次对越来越少的元素重复上面的步骤，直到没有任何一对数字需要比较。\n",
        "\n",
        "![替代文字](http://www.soong.site/datastructure/assets/23.png)"
      ]
    },
    {
      "cell_type": "code",
      "metadata": {
        "id": "59JNbTOYw-DC",
        "colab_type": "code",
        "outputId": "2d9206f2-af32-4876-ee43-43e6ca048060",
        "colab": {
          "base_uri": "https://localhost:8080/",
          "height": 34
        }
      },
      "source": [
        "def bubble_sort(alist):\n",
        "  #自己写的！\n",
        "    for j in range(len(alist)-1, 0, -1):\n",
        "      for i in range(j):\n",
        "        if alist[i] > alist[i+1]:\n",
        "          alist[i], alist[i+1] = alist[i+1], alist[i]\n",
        "        \n",
        "li = [54,26,93,17,77,31,44,55,20]\n",
        "bubble_sort(li)\n",
        "print(li)"
      ],
      "execution_count": 0,
      "outputs": [
        {
          "output_type": "stream",
          "text": [
            "[17, 20, 26, 31, 44, 54, 55, 77, 93]\n"
          ],
          "name": "stdout"
        }
      ]
    },
    {
      "cell_type": "code",
      "metadata": {
        "id": "jOQtq97PztWI",
        "colab_type": "code",
        "outputId": "88241388-68d2-4400-94ed-096ea627f7d6",
        "colab": {
          "base_uri": "https://localhost:8080/",
          "height": 34
        }
      },
      "source": [
        "#优化：如果给的就是从大到小排好的数列\n",
        "def bubble_sort(alist):\n",
        "    for j in range(len(alist)-1,0,-1):\n",
        "        # j表示每次遍历需要比较的次数，是逐渐减小的\n",
        "        count = 0\n",
        "        for i in range(j):\n",
        "            if alist[i] > alist[i+1]:\n",
        "                alist[i], alist[i+1] = alist[i+1], alist[i]\n",
        "                count += 1\n",
        "        if count == 0:\n",
        "          return alist\n",
        "\n",
        "\n",
        "li = [1,2,3,4,5]\n",
        "bubble_sort(li)\n",
        "print(li)"
      ],
      "execution_count": 0,
      "outputs": [
        {
          "output_type": "stream",
          "text": [
            "[1, 2, 3, 4, 5]\n"
          ],
          "name": "stdout"
        }
      ]
    },
    {
      "cell_type": "markdown",
      "metadata": {
        "id": "_syMfnP2vc_F",
        "colab_type": "text"
      },
      "source": [
        "### 时间复杂度\n",
        "- 最优时间复杂度：O(n)\n",
        "- 最坏时间复杂度：O($n^2$)\n",
        "- 稳定性：稳定"
      ]
    },
    {
      "cell_type": "markdown",
      "metadata": {
        "id": "cTr-RfcU962z",
        "colab_type": "text"
      },
      "source": [
        "## 选择排序（Selection sort）\n",
        "\n",
        "![替代文字](http://www.soong.site/datastructure/assets/24.png)\n",
        "\n",
        "首先在未排序序列中找到最小（大）元素，存放到排序序列的起始位置，然后，再从剩余未排序元素中继续寻找最小（大）元素，然后放到已排序序列的末尾。以此类推，直到所有元素均排序完毕。"
      ]
    },
    {
      "cell_type": "code",
      "metadata": {
        "id": "CeYe2aUIBdBo",
        "colab_type": "code",
        "colab": {}
      },
      "source": [
        "def selection_sort(alist):\n",
        "    n = len(alist)\n",
        "    # 需要进行n-1次选择操作\n",
        "    for i in range(n-1):\n",
        "        # 记录最小位置\n",
        "        min_index = i\n",
        "        # 从i+1位置到末尾选择出最小数据\n",
        "        for j in range(i+1, n):\n",
        "            if alist[j] < alist[min_index]:\n",
        "                min_index = j\n",
        "        # 如果选择出的数据不在正确位置，进行交换\n",
        "        if min_index != i:\n",
        "            alist[i], alist[min_index] = alist[min_index], alist[i]\n",
        "\n",
        "alist = [54,226,93,17,77,31,44,55,20]\n",
        "selection_sort(alist)\n",
        "print(alist)"
      ],
      "execution_count": 0,
      "outputs": []
    },
    {
      "cell_type": "markdown",
      "metadata": {
        "id": "g4aExvm7GSyk",
        "colab_type": "text"
      },
      "source": [
        "### 时间复杂度\n",
        "- 最优时间复杂度：O($n^2$)\n",
        "- 最坏时间复杂度：O($n^2$)\n",
        "- 稳定性：不稳定（考虑升序每次选择最大的情况）\n",
        "\n",
        "li=[$10_1$, 4, 5, 7, $10_2$, 9] 每次选最大值排到队尾\n",
        "\n",
        "排完：\n",
        "li=[4, 5, 7, 9, $10_2$,$10_1$] \n",
        "\n",
        "$10_1$, $10_2$位置和原来的位置不一样了，故不稳定"
      ]
    },
    {
      "cell_type": "markdown",
      "metadata": {
        "id": "Hp0xudE5IMfk",
        "colab_type": "text"
      },
      "source": [
        "## 插入排序（Insertion Sort）\n",
        "\n",
        "\n",
        "它的工作原理是通过构建有序序列，对于未排序数据，在已排序序列中从后向前扫描，找到相应位置并插入。插入排序在实现上，在从后向前扫描过程中，需要反复把已排序元素逐步向后挪位，为最新元素提供插入空间。\n",
        "\n",
        "![替代文字](http://www.soong.site/datastructure/assets/25.png)"
      ]
    },
    {
      "cell_type": "code",
      "metadata": {
        "id": "cgvJsVj8IMHI",
        "colab_type": "code",
        "outputId": "cd81b081-09b2-4c6d-a2ad-f4de84f6d646",
        "colab": {
          "base_uri": "https://localhost:8080/",
          "height": 34
        }
      },
      "source": [
        "def insert_sort(alist):\n",
        "  for i in range(1, len(alist)):\n",
        "  # 从第二个位置，即下标为1的元素开始向前插入\n",
        "    for j in range(i, 0, -1):\n",
        "    # 从第i个元素开始向前比较，如果小于前一个元素，交换位置:\n",
        "    # i, i-1,i-2...1\n",
        "      if alist[j] < alist[j-1]:\n",
        "        alist[j], alist[j-1]  = alist[j-1], alist[j]\n",
        "\n",
        "alist = [54,26,93,17,77,31,44,55,20]\n",
        "insert_sort(alist)\n",
        "print(alist)"
      ],
      "execution_count": 0,
      "outputs": [
        {
          "output_type": "stream",
          "text": [
            "[17, 20, 26, 31, 44, 54, 55, 77, 93]\n"
          ],
          "name": "stdout"
        }
      ]
    },
    {
      "cell_type": "code",
      "metadata": {
        "id": "TLBQdNuIdBul",
        "colab_type": "code",
        "outputId": "aeffd62d-8d35-4874-92f9-15bb81b46c8f",
        "colab": {
          "base_uri": "https://localhost:8080/",
          "height": 34
        }
      },
      "source": [
        "# 优化\n",
        "def insert_sort(alist):\n",
        "  for i in range(1, len(alist)):\n",
        "  # 从第二个位置，即下标为1的元素开始向前插入\n",
        "    j = i\n",
        "    while j > 0:\n",
        "    # 从第i个元素开始向前比较，如果小于前一个元素，交换位置:\n",
        "    # i, i-1,i-2...1\n",
        "      if alist[j] < alist[j-1]:\n",
        "        alist[j], alist[j-1]  = alist[j-1], alist[j]\n",
        "        j -= 1\n",
        "      else:\n",
        "        break\n",
        "\n",
        "alist = [54,26,93,17,77,31,44,55,20]\n",
        "insert_sort(alist)\n",
        "print(alist)"
      ],
      "execution_count": 0,
      "outputs": [
        {
          "output_type": "stream",
          "text": [
            "[17, 20, 26, 31, 44, 54, 55, 77, 93]\n"
          ],
          "name": "stdout"
        }
      ]
    },
    {
      "cell_type": "markdown",
      "metadata": {
        "id": "z1Zml0H8bsSe",
        "colab_type": "text"
      },
      "source": [
        "### 时间复杂度\n",
        "- 最优时间复杂度：O(n) 升序排列，有序升序数列\n",
        "- 最坏时间复杂度：O($n^2$)\n",
        "- 稳定性：稳定"
      ]
    },
    {
      "cell_type": "markdown",
      "metadata": {
        "id": "CGGHEma2eNlu",
        "colab_type": "text"
      },
      "source": [
        "## 希尔排序(Shell Sort)\n",
        "\n",
        " 插入排序的一种。也称缩小增量排序，是直接插入排序算法的一种更高效的改进版本。希尔排序是非稳定排序算法。希尔排序是把记录按下标的一定增量分组，对每组使用直接插入排序算法排序；随着增量逐渐减少，每组包含的关键词越来越多，当增量减至1时，整个文件恰被分成一组，算法便终止。\n",
        "\n",
        "![替代文字](http://www.soong.site/datastructure/assets/28.png)"
      ]
    },
    {
      "cell_type": "code",
      "metadata": {
        "id": "I0mKEBKcapaj",
        "colab_type": "code",
        "outputId": "90728aa4-b6a5-4129-b500-bbb72f2d5c5e",
        "colab": {
          "base_uri": "https://localhost:8080/",
          "height": 34
        }
      },
      "source": [
        "def shell_sort(alist):\n",
        "  \"希尔排序\"\n",
        "  n = len(alist)\n",
        "  gap = n // 2\n",
        "  while gap > 0: #gap==1 插入排序\n",
        "    #希尔和插入算法非常像，把i换为gap\n",
        "    for j in range(gap, n):\n",
        "      i = j\n",
        "      while i>0:\n",
        "        if alist[i] < alist[i - gap]:\n",
        "          alist[i], alist[i-gap] = alist[i-gap], alist[i]\n",
        "          i -= gap\n",
        "        else:\n",
        "          break\n",
        "  #缩短gap步长\n",
        "  gap //= 2  #/是精确除法，//是向下取整除法，%是求模\n",
        "\n",
        "alist = [54,26,93,17,77,31,44,55,20]\n",
        "insert_sort(alist)\n",
        "print(alist)\n"
      ],
      "execution_count": 0,
      "outputs": [
        {
          "output_type": "stream",
          "text": [
            "[17, 20, 26, 31, 44, 54, 55, 77, 93]\n"
          ],
          "name": "stdout"
        }
      ]
    },
    {
      "cell_type": "code",
      "metadata": {
        "id": "TqSWc053nUMl",
        "colab_type": "code",
        "outputId": "c07d2064-f7d6-44fe-ac08-2c9120b4b316",
        "colab": {
          "base_uri": "https://localhost:8080/",
          "height": 34
        }
      },
      "source": [
        "def insert_sort(alist):\n",
        "  \"插入排序\"\n",
        "  n = len(alist)\n",
        "  # 从右边无序序列去多少个元素执行这样的过程\n",
        "  for j in range(1, n):\n",
        "  # j = [1,2,3...,n-1],\n",
        "  # i 内层循环起始值\n",
        "    i = j\n",
        "    # 从第i个元素开始向前比较，如果小于前一个元素，交换位置:\n",
        "    while i >0:\n",
        "      if alist[i] < alist[i-1]:\n",
        "        alist[i], alist[i-1]  = alist[i-1], alist[i]\n",
        "        i -= 1\n",
        "      else:\n",
        "         break\n",
        "\n",
        "alist = [54,26,93,17,77,31,44,55,20]\n",
        "insert_sort(alist)\n",
        "print(alist)"
      ],
      "execution_count": 0,
      "outputs": [
        {
          "output_type": "stream",
          "text": [
            "[17, 20, 26, 31, 44, 54, 55, 77, 93]\n"
          ],
          "name": "stdout"
        }
      ]
    },
    {
      "cell_type": "markdown",
      "metadata": {
        "id": "KUWALc_krRXI",
        "colab_type": "text"
      },
      "source": [
        "### 时间复杂度\n",
        "- 最优时间复杂度：跟序列的不同而不同而不同\n",
        "- 最坏时间复杂度：O($n^2$) ，即gap为1，插入排序\n",
        "- 稳定性：不稳定"
      ]
    },
    {
      "cell_type": "markdown",
      "metadata": {
        "id": "02PfpwUueqXO",
        "colab_type": "text"
      },
      "source": [
        "## 快速排序（Quicksort）必须掌握\n",
        "\n",
        "快速排序（英语：Quicksort），又称划分交换排序（partition-exchange sort），通过一趟排序将要排序的数据分割成独立的两部分，其中一部分的所有数据都比另外一部分的所有数据都要小，然后再按此方法对这两部分数据分别进行快速排序，整个排序过程可以递归进行，以此达到整个数据变成有序序列。\n",
        "\n",
        "步骤为：\n",
        "\n",
        "从数列中挑出一个元素，称为\"基准\"（pivot），\n",
        "重新排序数列，所有元素比基准值小的摆放在基准前面，所有元素比基准值大的摆在基准的后面（相同的数可以到任一边）。在这个分区结束之后，该基准就处于数列的中间位置。这个称为分区（partition）操作。\n",
        "递归地（recursive）把小于基准值元素的子数列和大于基准值元素的子数列排序。\n",
        "递归的最底部情形，是数列的大小是零或一，也就是永远都已经被排序好了。虽然一直递归下去，但是这个算法总会结束，因为在每次的迭代（iteration）中，它至少会把一个元素摆到它最后的位置去。\n",
        "\n",
        "![替代文字](http://www.soong.site/datastructure/assets/27.png)\n",
        "\n",
        "![替代文字](https://cdn.breakyizhan.com/wp-content/uploads/2019/04/121659127078460.jpg)\n",
        "\n",
        "![替代文字](https://images2017.cnblogs.com/blog/1199607/201708/1199607-20170831232643983-1675647445.gif)"
      ]
    },
    {
      "cell_type": "code",
      "metadata": {
        "id": "FxTmXN5_ulb2",
        "colab_type": "code",
        "outputId": "2bfeae36-3ce0-4c08-ffd0-c67fc1c87a4b",
        "colab": {
          "base_uri": "https://localhost:8080/",
          "height": 34
        }
      },
      "source": [
        "def quick_sort(alist, start, end):\n",
        "    \"\"\"快速排序\"\"\"\n",
        "\n",
        "    # 递归的退出条件\n",
        "    if start >= end:\n",
        "        return\n",
        "\n",
        "    # 设定起始元素为要寻找位置的基准元素\n",
        "    mid = alist[start]\n",
        "\n",
        "    # low为序列左边的由左向右移动的游标\n",
        "    low = start\n",
        "\n",
        "    # high为序列右边的由右向左移动的游标\n",
        "    high = end\n",
        "\n",
        "    while low < high:\n",
        "        # 如果low与high未重合，high指向的元素不比基准元素小，则high向左移动\n",
        "        while low < high and alist[high] >= mid:\n",
        "            high -= 1\n",
        "        # 将high指向的元素放到low的位置上\n",
        "        alist[low] = alist[high]\n",
        "\n",
        "        # 如果low与high未重合，low指向的元素比基准元素小，则low向右移动\n",
        "        while low < high and alist[low] < mid:\n",
        "            low += 1\n",
        "        # 将low指向的元素放到high的位置上\n",
        "        alist[high] = alist[low]\n",
        "\n",
        "    # 退出循环后，low与high重合，此时所指位置为基准元素的正确位置\n",
        "    # 将基准元素放到该位置\n",
        "    alist[low] = mid\n",
        "\n",
        "    # 对基准元素左边的子序列进行快速排序\n",
        "    quick_sort(alist, start, low-1)\n",
        "\n",
        "    # 对基准元素右边的子序列进行快速排序\n",
        "    quick_sort(alist, low+1, end)\n",
        "\n",
        "\n",
        "alist = [54,26,93,17,77,31,44,55,20]\n",
        "quick_sort(alist,0,len(alist)-1)\n",
        "print(alist)"
      ],
      "execution_count": 0,
      "outputs": [
        {
          "output_type": "stream",
          "text": [
            "[17, 20, 26, 31, 44, 54, 55, 77, 93]\n"
          ],
          "name": "stdout"
        }
      ]
    },
    {
      "cell_type": "markdown",
      "metadata": {
        "id": "RZELpUdVCLWE",
        "colab_type": "text"
      },
      "source": [
        "### 时间复杂度\n",
        "- 最优时间复杂度：O($nlogn$)<br>\n",
        "横向n，纵向logn($2^x = n, x = logn$)\n",
        "- 最坏时间复杂度：O($n^2$)<br>\n",
        "横向n，纵向n\n",
        "- 稳定性：不稳定"
      ]
    },
    {
      "cell_type": "markdown",
      "metadata": {
        "id": "wZaZgqndFL7P",
        "colab_type": "text"
      },
      "source": [
        "## 归并排序 merge sort\n",
        "\n",
        "归并排序是采用分治法的一个非常典型的应用。归并排序的思想就是先递归分解数组，再合并数组。\n",
        "\n",
        "将数组分解最小之后，然后合并两个有序数组，基本思路是比较两个数组的最前面的数，谁小就先取谁，取了后相应的指针就往后移一位。然后再比较，直至一个数组为空，最后把另一个数组的剩余部分复制过来即可。\n",
        "\n",
        "![替代文字](https://upload.wikimedia.org/wikipedia/commons/c/cc/Merge-sort-example-300px.gif)"
      ]
    },
    {
      "cell_type": "code",
      "metadata": {
        "id": "BNMFw5NlFLan",
        "colab_type": "code",
        "outputId": "221d3f3d-6a14-427b-a9bd-58ec9690eea9",
        "colab": {
          "base_uri": "https://localhost:8080/",
          "height": 34
        }
      },
      "source": [
        "def merge_sort(alist):\n",
        "    \"归并排序\"\n",
        "    if len(alist) <= 1:\n",
        "        return alist\n",
        "    # 二分分解\n",
        "    num = len(alist)//2\n",
        "    left = merge_sort(alist[:num])\n",
        "    right = merge_sort(alist[num:])\n",
        "    # 合并\n",
        "    return merge(left,right)\n",
        "\n",
        "def merge(left, right):\n",
        "    '''合并操作，将两个有序数组left[]和right[]合并成一个大的有序数组'''\n",
        "    #left与right的下标指针\n",
        "    l, r = 0, 0\n",
        "    result = []\n",
        "    while l<len(left) and r<len(right):\n",
        "        if left[l] <= right[r]:#加上=情况，就稳定了\n",
        "            result.append(left[l])\n",
        "            l += 1\n",
        "        else:\n",
        "            result.append(right[r])\n",
        "            r += 1\n",
        "    result += left[l:]\n",
        "    result += right[r:]\n",
        "    return result\n",
        "\n",
        "alist = [54,26,93,17,77,31,44,55,20]\n",
        "sorted_alist = merge_sort(alist)\n",
        "print(sorted_alist)"
      ],
      "execution_count": 0,
      "outputs": [
        {
          "output_type": "stream",
          "text": [
            "[17, 20, 26, 31, 44, 54, 55, 77, 93]\n"
          ],
          "name": "stdout"
        }
      ]
    },
    {
      "cell_type": "markdown",
      "metadata": {
        "colab_type": "text",
        "id": "RCn_DObYh2WN"
      },
      "source": [
        "### 时间复杂度\n",
        "- 最优时间复杂度：O($nlogn$)<br>\n",
        "横向logn($2^x = n, x = logn$)，纵向n\n",
        "- 最坏时间复杂度：O($nlogn$)<br>\n",
        "需要额外 空间\n",
        "- 稳定性：稳定\n",
        "\n",
        "![替代文字](https://cdn.breakyizhan.com/wp-content/uploads/2019/04/sort.png)\n",
        "\n",
        "![替代文字](https://cdn.breakyizhan.com/wp-content/uploads/2019/04/0B319B38-B70E-4118-B897-74EFA7E368F9.png)"
      ]
    },
    {
      "cell_type": "markdown",
      "metadata": {
        "id": "_1LVpbtch1Yg",
        "colab_type": "text"
      },
      "source": [
        "## 搜索 二分法\n",
        "\n",
        "二分查找又称折半查找，优点是比较次数少，查找速度快，平均性能好；其缺点是要求待查表为有序表，且插入删除困难。因此，折半查找方法适用于不经常变动而查找频繁的有序列表。首先，假设表中元素是按升序排列，将表中间位置记录的关键字与查找关键字比较，如果两者相等，则查找成功；否则利用中间位置记录将表分成前、后两个子表，如果中间位置记录的关键字大于查找关键字，则进一步查找前一子表，否则进一步查找后一子表。重复以上过程，直到找到满足条件的记录，使查找成功，或直到子表不存在为止，此时查找不成功。\n",
        "\n",
        "**只能作用在有序的顺序表**\n",
        "\n"
      ]
    },
    {
      "cell_type": "code",
      "metadata": {
        "id": "mCqQUXNvBTi0",
        "colab_type": "code",
        "outputId": "0edcee9c-f38d-4078-bb16-eefcf6ba80f7",
        "colab": {
          "base_uri": "https://localhost:8080/",
          "height": 51
        }
      },
      "source": [
        "def binary_search(alist, item):\n",
        "  \"递归实现\"\n",
        "  n = len(alist)\n",
        "\n",
        "  if n >0: \n",
        "    mid =  n//2\n",
        "    if alist[mid] == item:\n",
        "      return True\n",
        "\n",
        "    elif alist[mid]>item:\n",
        "      return binary_search(alist[:mid], item)\n",
        "    else:\n",
        "      return binary_search(alist[mid+1:], item)\n",
        "  return False\n",
        "\n",
        "testlist = [0, 1, 2, 8, 13, 17, 19, 32, 42]\n",
        "print(binary_search(testlist, 10))\n",
        "print(binary_search(testlist, 42))\n"
      ],
      "execution_count": 47,
      "outputs": [
        {
          "output_type": "stream",
          "text": [
            "False\n",
            "True\n"
          ],
          "name": "stdout"
        }
      ]
    },
    {
      "cell_type": "code",
      "metadata": {
        "colab_type": "code",
        "id": "deVTFiotT5T4",
        "colab": {
          "base_uri": "https://localhost:8080/",
          "height": 51
        },
        "outputId": "9229670e-731d-41ed-fab4-4e1951654eed"
      },
      "source": [
        "def binary_search(alist, item):\n",
        "  \"非递归实现\"\n",
        "  n = len(alist)\n",
        "  first = 0\n",
        "  last = n-1\n",
        "  \n",
        "  while first<=last:\n",
        "    mid =  (first+last)//2 \n",
        "    # 不能放在while外层  \n",
        "    if alist[mid] == item:\n",
        "        return True\n",
        "    elif alist[mid]>item:\n",
        "        last = mid-1\n",
        "    else:\n",
        "        first = mid+1\n",
        "  return False\n",
        "\n",
        "\n",
        "testlist = [0, 1, 2, 8, 13, 17, 19, 32, 42]\n",
        "print(binary_search(testlist, 10))\n",
        "print(binary_search(testlist, 42))"
      ],
      "execution_count": 1,
      "outputs": [
        {
          "output_type": "stream",
          "text": [
            "False\n",
            "True\n"
          ],
          "name": "stdout"
        }
      ]
    },
    {
      "cell_type": "code",
      "metadata": {
        "id": "WodnT9JsjTao",
        "colab_type": "code",
        "colab": {
          "base_uri": "https://localhost:8080/",
          "height": 51
        },
        "outputId": "ce1e3a2f-2971-4b9b-d042-10d4f11bdad6"
      },
      "source": [
        "def binary_search(alist, item):\n",
        "      first = 0\n",
        "      last = len(alist)-1\n",
        "      while first<=last:\n",
        "          midpoint = (first + last)//2\n",
        "          if alist[midpoint] == item:\n",
        "              return True\n",
        "          elif item < alist[midpoint]:\n",
        "              last = midpoint-1\n",
        "          else:\n",
        "              first = midpoint+1\n",
        "      return False\n",
        "testlist = [0, 1, 2, 8, 13, 17, 19, 32, 42,]\n",
        "print(binary_search(testlist, 3))\n",
        "print(binary_search(testlist, 13))"
      ],
      "execution_count": 44,
      "outputs": [
        {
          "output_type": "stream",
          "text": [
            "False\n",
            "True\n"
          ],
          "name": "stdout"
        }
      ]
    },
    {
      "cell_type": "markdown",
      "metadata": {
        "id": "6LHPeVNip5hf",
        "colab_type": "text"
      },
      "source": [
        "### 时间复杂度\n",
        "- 最优时间复杂度：O(1)\n",
        "- 最坏时间复杂度：O(logn)"
      ]
    }
  ]
}